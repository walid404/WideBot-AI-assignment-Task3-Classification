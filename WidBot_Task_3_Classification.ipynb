{
  "nbformat": 4,
  "nbformat_minor": 0,
  "metadata": {
    "colab": {
      "provenance": [],
      "gpuType": "T4"
    },
    "kernelspec": {
      "name": "python3",
      "display_name": "Python 3"
    },
    "language_info": {
      "name": "python"
    }
  },
  "cells": [
    {
      "cell_type": "markdown",
      "source": [
        "#WidBot Task 3 - Classification"
      ],
      "metadata": {
        "id": "RLFb7hGb0i0K"
      }
    },
    {
      "cell_type": "markdown",
      "source": [
        "### Connect To Drive"
      ],
      "metadata": {
        "id": "ok2_DM_l031D"
      }
    },
    {
      "cell_type": "code",
      "source": [
        "from google.colab import drive\n",
        "drive.mount('/content/drive')"
      ],
      "metadata": {
        "colab": {
          "base_uri": "https://localhost:8080/"
        },
        "id": "kxkOCIgRtTbU",
        "outputId": "fd0ec8ba-28a6-485f-9afa-ca1cab3d20da"
      },
      "execution_count": 1,
      "outputs": [
        {
          "output_type": "stream",
          "name": "stdout",
          "text": [
            "Drive already mounted at /content/drive; to attempt to forcibly remount, call drive.mount(\"/content/drive\", force_remount=True).\n"
          ]
        }
      ]
    },
    {
      "cell_type": "markdown",
      "metadata": {
        "id": "xyW-FKI-GiAu"
      },
      "source": [
        "## 1.0 Importing Packages"
      ]
    },
    {
      "cell_type": "code",
      "execution_count": 2,
      "metadata": {
        "id": "9V3Wnihj6SV1"
      },
      "outputs": [],
      "source": [
        "import pickle\n",
        "import re\n",
        "import os\n",
        "import numpy as np\n",
        "import pandas as pd\n",
        "import matplotlib.pyplot as plt\n",
        "import seaborn as sn\n",
        "\n",
        "from sklearn.model_selection import train_test_split\n",
        "from sklearn.metrics import classification_report\n",
        "from sklearn.metrics import confusion_matrix\n",
        "\n",
        "from tensorflow import keras\n",
        "from keras.preprocessing.text import Tokenizer\n",
        "from keras.utils import pad_sequences"
      ]
    },
    {
      "cell_type": "markdown",
      "metadata": {
        "id": "G-wKcBLtGlnz"
      },
      "source": [
        "## 2.0 Reading & Exploring Data"
      ]
    },
    {
      "cell_type": "markdown",
      "metadata": {
        "id": "wKb60ZgvIbBR"
      },
      "source": [
        "### 2.1 Reading Data"
      ]
    },
    {
      "cell_type": "code",
      "source": [
        "path = '/content/drive/MyDrive/Datasets/Wide Bot Task Dataset'\n",
        "csvs = os.listdir(path)\n",
        "df = pd.read_csv(os.path.join(path, csvs[0]))\n",
        "df.head()"
      ],
      "metadata": {
        "colab": {
          "base_uri": "https://localhost:8080/",
          "height": 354
        },
        "id": "r50gSUmdcmFt",
        "outputId": "dd237b68-cfcc-4451-f523-0a12b9572097"
      },
      "execution_count": 3,
      "outputs": [
        {
          "output_type": "execute_result",
          "data": {
            "text/plain": [
              "   Unnamed: 0                                id  \\\n",
              "0           0  9d9ebd0204f811eb92ec646e69d991ea   \n",
              "1           1  9e96ecc604f811eb836a646e69d991ea   \n",
              "2           2  9fc1ec4204f811eb8619646e69d991ea   \n",
              "3           3  a0a2fa9c04f811eb8580646e69d991ea   \n",
              "4           4  a2d0124a04f811eba88f646e69d991ea   \n",
              "\n",
              "                                             title  \\\n",
              "0       شهادة طبيب جراح \"تورط\" قنصلا بتر أصبع مسنة   \n",
              "1       إحباط تهريب أكثر من طن من \"الحشيش\" بأكادير   \n",
              "2       كمين أمن الصويرة يسقط شبكة هجرة غير نظامية   \n",
              "3  \"تلميذة زاكورة\" تتهم زوج أختها باستغلالها جنسيا   \n",
              "4    \"أحجار كريمة مزيفة\" تورط أشخاصا بمدينة أكادير   \n",
              "\n",
              "                            date                   author  \\\n",
              "0  الجمعة 02 أكتوبر 2020 - 20:08  هسبريس من الدار البيضاء   \n",
              "1  الجمعة 02 أكتوبر 2020 - 19:37    رشيد بيجيكن من أكادير   \n",
              "2  الجمعة 02 أكتوبر 2020 - 18:35  ابراهيم مغراوي من مراكش   \n",
              "3  الجمعة 02 أكتوبر 2020 - 14:20         هسبريس من زاكورة   \n",
              "4  الجمعة 02 أكتوبر 2020 - 10:05    رشيد بيجيكن من أكادير   \n",
              "\n",
              "                                               story         topic  \n",
              "0  قررت الغرفة الجنائية بمحكمة الاستئناف بمدينة ا...  faits-divers  \n",
              "1  تمكنت المصلحة الولائية للشرطة القضائية بمدينة ...  faits-divers  \n",
              "2  أوقفت عناصر فرقة الشرطة القضائية بالمنطقة الإق...  faits-divers  \n",
              "3  كشف مصدر أمني مسؤول أن التلميذة المتحدرة من جم...  faits-divers  \n",
              "4  تمكنت عناصر المصلحة الولائية للشرطة القضائية ب...  faits-divers  "
            ],
            "text/html": [
              "\n",
              "\n",
              "  <div id=\"df-f3907e9f-877d-4137-a85e-bd9d802e27d1\">\n",
              "    <div class=\"colab-df-container\">\n",
              "      <div>\n",
              "<style scoped>\n",
              "    .dataframe tbody tr th:only-of-type {\n",
              "        vertical-align: middle;\n",
              "    }\n",
              "\n",
              "    .dataframe tbody tr th {\n",
              "        vertical-align: top;\n",
              "    }\n",
              "\n",
              "    .dataframe thead th {\n",
              "        text-align: right;\n",
              "    }\n",
              "</style>\n",
              "<table border=\"1\" class=\"dataframe\">\n",
              "  <thead>\n",
              "    <tr style=\"text-align: right;\">\n",
              "      <th></th>\n",
              "      <th>Unnamed: 0</th>\n",
              "      <th>id</th>\n",
              "      <th>title</th>\n",
              "      <th>date</th>\n",
              "      <th>author</th>\n",
              "      <th>story</th>\n",
              "      <th>topic</th>\n",
              "    </tr>\n",
              "  </thead>\n",
              "  <tbody>\n",
              "    <tr>\n",
              "      <th>0</th>\n",
              "      <td>0</td>\n",
              "      <td>9d9ebd0204f811eb92ec646e69d991ea</td>\n",
              "      <td>شهادة طبيب جراح \"تورط\" قنصلا بتر أصبع مسنة</td>\n",
              "      <td>الجمعة 02 أكتوبر 2020 - 20:08</td>\n",
              "      <td>هسبريس من الدار البيضاء</td>\n",
              "      <td>قررت الغرفة الجنائية بمحكمة الاستئناف بمدينة ا...</td>\n",
              "      <td>faits-divers</td>\n",
              "    </tr>\n",
              "    <tr>\n",
              "      <th>1</th>\n",
              "      <td>1</td>\n",
              "      <td>9e96ecc604f811eb836a646e69d991ea</td>\n",
              "      <td>إحباط تهريب أكثر من طن من \"الحشيش\" بأكادير</td>\n",
              "      <td>الجمعة 02 أكتوبر 2020 - 19:37</td>\n",
              "      <td>رشيد بيجيكن من أكادير</td>\n",
              "      <td>تمكنت المصلحة الولائية للشرطة القضائية بمدينة ...</td>\n",
              "      <td>faits-divers</td>\n",
              "    </tr>\n",
              "    <tr>\n",
              "      <th>2</th>\n",
              "      <td>2</td>\n",
              "      <td>9fc1ec4204f811eb8619646e69d991ea</td>\n",
              "      <td>كمين أمن الصويرة يسقط شبكة هجرة غير نظامية</td>\n",
              "      <td>الجمعة 02 أكتوبر 2020 - 18:35</td>\n",
              "      <td>ابراهيم مغراوي من مراكش</td>\n",
              "      <td>أوقفت عناصر فرقة الشرطة القضائية بالمنطقة الإق...</td>\n",
              "      <td>faits-divers</td>\n",
              "    </tr>\n",
              "    <tr>\n",
              "      <th>3</th>\n",
              "      <td>3</td>\n",
              "      <td>a0a2fa9c04f811eb8580646e69d991ea</td>\n",
              "      <td>\"تلميذة زاكورة\" تتهم زوج أختها باستغلالها جنسيا</td>\n",
              "      <td>الجمعة 02 أكتوبر 2020 - 14:20</td>\n",
              "      <td>هسبريس من زاكورة</td>\n",
              "      <td>كشف مصدر أمني مسؤول أن التلميذة المتحدرة من جم...</td>\n",
              "      <td>faits-divers</td>\n",
              "    </tr>\n",
              "    <tr>\n",
              "      <th>4</th>\n",
              "      <td>4</td>\n",
              "      <td>a2d0124a04f811eba88f646e69d991ea</td>\n",
              "      <td>\"أحجار كريمة مزيفة\" تورط أشخاصا بمدينة أكادير</td>\n",
              "      <td>الجمعة 02 أكتوبر 2020 - 10:05</td>\n",
              "      <td>رشيد بيجيكن من أكادير</td>\n",
              "      <td>تمكنت عناصر المصلحة الولائية للشرطة القضائية ب...</td>\n",
              "      <td>faits-divers</td>\n",
              "    </tr>\n",
              "  </tbody>\n",
              "</table>\n",
              "</div>\n",
              "      <button class=\"colab-df-convert\" onclick=\"convertToInteractive('df-f3907e9f-877d-4137-a85e-bd9d802e27d1')\"\n",
              "              title=\"Convert this dataframe to an interactive table.\"\n",
              "              style=\"display:none;\">\n",
              "\n",
              "  <svg xmlns=\"http://www.w3.org/2000/svg\" height=\"24px\"viewBox=\"0 0 24 24\"\n",
              "       width=\"24px\">\n",
              "    <path d=\"M0 0h24v24H0V0z\" fill=\"none\"/>\n",
              "    <path d=\"M18.56 5.44l.94 2.06.94-2.06 2.06-.94-2.06-.94-.94-2.06-.94 2.06-2.06.94zm-11 1L8.5 8.5l.94-2.06 2.06-.94-2.06-.94L8.5 2.5l-.94 2.06-2.06.94zm10 10l.94 2.06.94-2.06 2.06-.94-2.06-.94-.94-2.06-.94 2.06-2.06.94z\"/><path d=\"M17.41 7.96l-1.37-1.37c-.4-.4-.92-.59-1.43-.59-.52 0-1.04.2-1.43.59L10.3 9.45l-7.72 7.72c-.78.78-.78 2.05 0 2.83L4 21.41c.39.39.9.59 1.41.59.51 0 1.02-.2 1.41-.59l7.78-7.78 2.81-2.81c.8-.78.8-2.07 0-2.86zM5.41 20L4 18.59l7.72-7.72 1.47 1.35L5.41 20z\"/>\n",
              "  </svg>\n",
              "      </button>\n",
              "\n",
              "\n",
              "\n",
              "    <div id=\"df-42dc7d25-0a6b-412e-be87-447c661f4ded\">\n",
              "      <button class=\"colab-df-quickchart\" onclick=\"quickchart('df-42dc7d25-0a6b-412e-be87-447c661f4ded')\"\n",
              "              title=\"Suggest charts.\"\n",
              "              style=\"display:none;\">\n",
              "\n",
              "<svg xmlns=\"http://www.w3.org/2000/svg\" height=\"24px\"viewBox=\"0 0 24 24\"\n",
              "     width=\"24px\">\n",
              "    <g>\n",
              "        <path d=\"M19 3H5c-1.1 0-2 .9-2 2v14c0 1.1.9 2 2 2h14c1.1 0 2-.9 2-2V5c0-1.1-.9-2-2-2zM9 17H7v-7h2v7zm4 0h-2V7h2v10zm4 0h-2v-4h2v4z\"/>\n",
              "    </g>\n",
              "</svg>\n",
              "      </button>\n",
              "    </div>\n",
              "\n",
              "<style>\n",
              "  .colab-df-quickchart {\n",
              "    background-color: #E8F0FE;\n",
              "    border: none;\n",
              "    border-radius: 50%;\n",
              "    cursor: pointer;\n",
              "    display: none;\n",
              "    fill: #1967D2;\n",
              "    height: 32px;\n",
              "    padding: 0 0 0 0;\n",
              "    width: 32px;\n",
              "  }\n",
              "\n",
              "  .colab-df-quickchart:hover {\n",
              "    background-color: #E2EBFA;\n",
              "    box-shadow: 0px 1px 2px rgba(60, 64, 67, 0.3), 0px 1px 3px 1px rgba(60, 64, 67, 0.15);\n",
              "    fill: #174EA6;\n",
              "  }\n",
              "\n",
              "  [theme=dark] .colab-df-quickchart {\n",
              "    background-color: #3B4455;\n",
              "    fill: #D2E3FC;\n",
              "  }\n",
              "\n",
              "  [theme=dark] .colab-df-quickchart:hover {\n",
              "    background-color: #434B5C;\n",
              "    box-shadow: 0px 1px 3px 1px rgba(0, 0, 0, 0.15);\n",
              "    filter: drop-shadow(0px 1px 2px rgba(0, 0, 0, 0.3));\n",
              "    fill: #FFFFFF;\n",
              "  }\n",
              "</style>\n",
              "\n",
              "    <script>\n",
              "      async function quickchart(key) {\n",
              "        const containerElement = document.querySelector('#' + key);\n",
              "        const charts = await google.colab.kernel.invokeFunction(\n",
              "            'suggestCharts', [key], {});\n",
              "      }\n",
              "    </script>\n",
              "\n",
              "      <script>\n",
              "\n",
              "function displayQuickchartButton(domScope) {\n",
              "  let quickchartButtonEl =\n",
              "    domScope.querySelector('#df-42dc7d25-0a6b-412e-be87-447c661f4ded button.colab-df-quickchart');\n",
              "  quickchartButtonEl.style.display =\n",
              "    google.colab.kernel.accessAllowed ? 'block' : 'none';\n",
              "}\n",
              "\n",
              "        displayQuickchartButton(document);\n",
              "      </script>\n",
              "      <style>\n",
              "    .colab-df-container {\n",
              "      display:flex;\n",
              "      flex-wrap:wrap;\n",
              "      gap: 12px;\n",
              "    }\n",
              "\n",
              "    .colab-df-convert {\n",
              "      background-color: #E8F0FE;\n",
              "      border: none;\n",
              "      border-radius: 50%;\n",
              "      cursor: pointer;\n",
              "      display: none;\n",
              "      fill: #1967D2;\n",
              "      height: 32px;\n",
              "      padding: 0 0 0 0;\n",
              "      width: 32px;\n",
              "    }\n",
              "\n",
              "    .colab-df-convert:hover {\n",
              "      background-color: #E2EBFA;\n",
              "      box-shadow: 0px 1px 2px rgba(60, 64, 67, 0.3), 0px 1px 3px 1px rgba(60, 64, 67, 0.15);\n",
              "      fill: #174EA6;\n",
              "    }\n",
              "\n",
              "    [theme=dark] .colab-df-convert {\n",
              "      background-color: #3B4455;\n",
              "      fill: #D2E3FC;\n",
              "    }\n",
              "\n",
              "    [theme=dark] .colab-df-convert:hover {\n",
              "      background-color: #434B5C;\n",
              "      box-shadow: 0px 1px 3px 1px rgba(0, 0, 0, 0.15);\n",
              "      filter: drop-shadow(0px 1px 2px rgba(0, 0, 0, 0.3));\n",
              "      fill: #FFFFFF;\n",
              "    }\n",
              "  </style>\n",
              "\n",
              "      <script>\n",
              "        const buttonEl =\n",
              "          document.querySelector('#df-f3907e9f-877d-4137-a85e-bd9d802e27d1 button.colab-df-convert');\n",
              "        buttonEl.style.display =\n",
              "          google.colab.kernel.accessAllowed ? 'block' : 'none';\n",
              "\n",
              "        async function convertToInteractive(key) {\n",
              "          const element = document.querySelector('#df-f3907e9f-877d-4137-a85e-bd9d802e27d1');\n",
              "          const dataTable =\n",
              "            await google.colab.kernel.invokeFunction('convertToInteractive',\n",
              "                                                     [key], {});\n",
              "          if (!dataTable) return;\n",
              "\n",
              "          const docLinkHtml = 'Like what you see? Visit the ' +\n",
              "            '<a target=\"_blank\" href=https://colab.research.google.com/notebooks/data_table.ipynb>data table notebook</a>'\n",
              "            + ' to learn more about interactive tables.';\n",
              "          element.innerHTML = '';\n",
              "          dataTable['output_type'] = 'display_data';\n",
              "          await google.colab.output.renderOutput(dataTable, element);\n",
              "          const docLink = document.createElement('div');\n",
              "          docLink.innerHTML = docLinkHtml;\n",
              "          element.appendChild(docLink);\n",
              "        }\n",
              "      </script>\n",
              "    </div>\n",
              "  </div>\n"
            ]
          },
          "metadata": {},
          "execution_count": 3
        }
      ]
    },
    {
      "cell_type": "markdown",
      "source": [
        "### 2.2 concatenating Data"
      ],
      "metadata": {
        "id": "bVBUP7bS1_4f"
      }
    },
    {
      "cell_type": "code",
      "source": [
        "for index in range(1, len(csvs)):\n",
        "  df1 = pd.read_csv(os.path.join(path, csvs[index]))\n",
        "  df = pd.concat([df, df1], ignore_index=True, sort=False)\n",
        "\n",
        "df.head()"
      ],
      "metadata": {
        "colab": {
          "base_uri": "https://localhost:8080/",
          "height": 354
        },
        "id": "gbLqhbhxtSMC",
        "outputId": "f20a494b-c5d2-4aa5-d750-2882aadd54d2"
      },
      "execution_count": 4,
      "outputs": [
        {
          "output_type": "execute_result",
          "data": {
            "text/plain": [
              "   Unnamed: 0                                id  \\\n",
              "0           0  9d9ebd0204f811eb92ec646e69d991ea   \n",
              "1           1  9e96ecc604f811eb836a646e69d991ea   \n",
              "2           2  9fc1ec4204f811eb8619646e69d991ea   \n",
              "3           3  a0a2fa9c04f811eb8580646e69d991ea   \n",
              "4           4  a2d0124a04f811eba88f646e69d991ea   \n",
              "\n",
              "                                             title  \\\n",
              "0       شهادة طبيب جراح \"تورط\" قنصلا بتر أصبع مسنة   \n",
              "1       إحباط تهريب أكثر من طن من \"الحشيش\" بأكادير   \n",
              "2       كمين أمن الصويرة يسقط شبكة هجرة غير نظامية   \n",
              "3  \"تلميذة زاكورة\" تتهم زوج أختها باستغلالها جنسيا   \n",
              "4    \"أحجار كريمة مزيفة\" تورط أشخاصا بمدينة أكادير   \n",
              "\n",
              "                            date                   author  \\\n",
              "0  الجمعة 02 أكتوبر 2020 - 20:08  هسبريس من الدار البيضاء   \n",
              "1  الجمعة 02 أكتوبر 2020 - 19:37    رشيد بيجيكن من أكادير   \n",
              "2  الجمعة 02 أكتوبر 2020 - 18:35  ابراهيم مغراوي من مراكش   \n",
              "3  الجمعة 02 أكتوبر 2020 - 14:20         هسبريس من زاكورة   \n",
              "4  الجمعة 02 أكتوبر 2020 - 10:05    رشيد بيجيكن من أكادير   \n",
              "\n",
              "                                               story         topic  \n",
              "0  قررت الغرفة الجنائية بمحكمة الاستئناف بمدينة ا...  faits-divers  \n",
              "1  تمكنت المصلحة الولائية للشرطة القضائية بمدينة ...  faits-divers  \n",
              "2  أوقفت عناصر فرقة الشرطة القضائية بالمنطقة الإق...  faits-divers  \n",
              "3  كشف مصدر أمني مسؤول أن التلميذة المتحدرة من جم...  faits-divers  \n",
              "4  تمكنت عناصر المصلحة الولائية للشرطة القضائية ب...  faits-divers  "
            ],
            "text/html": [
              "\n",
              "\n",
              "  <div id=\"df-80f1ed3d-9387-4bc8-b9c6-9a2440a86f90\">\n",
              "    <div class=\"colab-df-container\">\n",
              "      <div>\n",
              "<style scoped>\n",
              "    .dataframe tbody tr th:only-of-type {\n",
              "        vertical-align: middle;\n",
              "    }\n",
              "\n",
              "    .dataframe tbody tr th {\n",
              "        vertical-align: top;\n",
              "    }\n",
              "\n",
              "    .dataframe thead th {\n",
              "        text-align: right;\n",
              "    }\n",
              "</style>\n",
              "<table border=\"1\" class=\"dataframe\">\n",
              "  <thead>\n",
              "    <tr style=\"text-align: right;\">\n",
              "      <th></th>\n",
              "      <th>Unnamed: 0</th>\n",
              "      <th>id</th>\n",
              "      <th>title</th>\n",
              "      <th>date</th>\n",
              "      <th>author</th>\n",
              "      <th>story</th>\n",
              "      <th>topic</th>\n",
              "    </tr>\n",
              "  </thead>\n",
              "  <tbody>\n",
              "    <tr>\n",
              "      <th>0</th>\n",
              "      <td>0</td>\n",
              "      <td>9d9ebd0204f811eb92ec646e69d991ea</td>\n",
              "      <td>شهادة طبيب جراح \"تورط\" قنصلا بتر أصبع مسنة</td>\n",
              "      <td>الجمعة 02 أكتوبر 2020 - 20:08</td>\n",
              "      <td>هسبريس من الدار البيضاء</td>\n",
              "      <td>قررت الغرفة الجنائية بمحكمة الاستئناف بمدينة ا...</td>\n",
              "      <td>faits-divers</td>\n",
              "    </tr>\n",
              "    <tr>\n",
              "      <th>1</th>\n",
              "      <td>1</td>\n",
              "      <td>9e96ecc604f811eb836a646e69d991ea</td>\n",
              "      <td>إحباط تهريب أكثر من طن من \"الحشيش\" بأكادير</td>\n",
              "      <td>الجمعة 02 أكتوبر 2020 - 19:37</td>\n",
              "      <td>رشيد بيجيكن من أكادير</td>\n",
              "      <td>تمكنت المصلحة الولائية للشرطة القضائية بمدينة ...</td>\n",
              "      <td>faits-divers</td>\n",
              "    </tr>\n",
              "    <tr>\n",
              "      <th>2</th>\n",
              "      <td>2</td>\n",
              "      <td>9fc1ec4204f811eb8619646e69d991ea</td>\n",
              "      <td>كمين أمن الصويرة يسقط شبكة هجرة غير نظامية</td>\n",
              "      <td>الجمعة 02 أكتوبر 2020 - 18:35</td>\n",
              "      <td>ابراهيم مغراوي من مراكش</td>\n",
              "      <td>أوقفت عناصر فرقة الشرطة القضائية بالمنطقة الإق...</td>\n",
              "      <td>faits-divers</td>\n",
              "    </tr>\n",
              "    <tr>\n",
              "      <th>3</th>\n",
              "      <td>3</td>\n",
              "      <td>a0a2fa9c04f811eb8580646e69d991ea</td>\n",
              "      <td>\"تلميذة زاكورة\" تتهم زوج أختها باستغلالها جنسيا</td>\n",
              "      <td>الجمعة 02 أكتوبر 2020 - 14:20</td>\n",
              "      <td>هسبريس من زاكورة</td>\n",
              "      <td>كشف مصدر أمني مسؤول أن التلميذة المتحدرة من جم...</td>\n",
              "      <td>faits-divers</td>\n",
              "    </tr>\n",
              "    <tr>\n",
              "      <th>4</th>\n",
              "      <td>4</td>\n",
              "      <td>a2d0124a04f811eba88f646e69d991ea</td>\n",
              "      <td>\"أحجار كريمة مزيفة\" تورط أشخاصا بمدينة أكادير</td>\n",
              "      <td>الجمعة 02 أكتوبر 2020 - 10:05</td>\n",
              "      <td>رشيد بيجيكن من أكادير</td>\n",
              "      <td>تمكنت عناصر المصلحة الولائية للشرطة القضائية ب...</td>\n",
              "      <td>faits-divers</td>\n",
              "    </tr>\n",
              "  </tbody>\n",
              "</table>\n",
              "</div>\n",
              "      <button class=\"colab-df-convert\" onclick=\"convertToInteractive('df-80f1ed3d-9387-4bc8-b9c6-9a2440a86f90')\"\n",
              "              title=\"Convert this dataframe to an interactive table.\"\n",
              "              style=\"display:none;\">\n",
              "\n",
              "  <svg xmlns=\"http://www.w3.org/2000/svg\" height=\"24px\"viewBox=\"0 0 24 24\"\n",
              "       width=\"24px\">\n",
              "    <path d=\"M0 0h24v24H0V0z\" fill=\"none\"/>\n",
              "    <path d=\"M18.56 5.44l.94 2.06.94-2.06 2.06-.94-2.06-.94-.94-2.06-.94 2.06-2.06.94zm-11 1L8.5 8.5l.94-2.06 2.06-.94-2.06-.94L8.5 2.5l-.94 2.06-2.06.94zm10 10l.94 2.06.94-2.06 2.06-.94-2.06-.94-.94-2.06-.94 2.06-2.06.94z\"/><path d=\"M17.41 7.96l-1.37-1.37c-.4-.4-.92-.59-1.43-.59-.52 0-1.04.2-1.43.59L10.3 9.45l-7.72 7.72c-.78.78-.78 2.05 0 2.83L4 21.41c.39.39.9.59 1.41.59.51 0 1.02-.2 1.41-.59l7.78-7.78 2.81-2.81c.8-.78.8-2.07 0-2.86zM5.41 20L4 18.59l7.72-7.72 1.47 1.35L5.41 20z\"/>\n",
              "  </svg>\n",
              "      </button>\n",
              "\n",
              "\n",
              "\n",
              "    <div id=\"df-4b62a92d-ade9-4505-bc89-19528822ef24\">\n",
              "      <button class=\"colab-df-quickchart\" onclick=\"quickchart('df-4b62a92d-ade9-4505-bc89-19528822ef24')\"\n",
              "              title=\"Suggest charts.\"\n",
              "              style=\"display:none;\">\n",
              "\n",
              "<svg xmlns=\"http://www.w3.org/2000/svg\" height=\"24px\"viewBox=\"0 0 24 24\"\n",
              "     width=\"24px\">\n",
              "    <g>\n",
              "        <path d=\"M19 3H5c-1.1 0-2 .9-2 2v14c0 1.1.9 2 2 2h14c1.1 0 2-.9 2-2V5c0-1.1-.9-2-2-2zM9 17H7v-7h2v7zm4 0h-2V7h2v10zm4 0h-2v-4h2v4z\"/>\n",
              "    </g>\n",
              "</svg>\n",
              "      </button>\n",
              "    </div>\n",
              "\n",
              "<style>\n",
              "  .colab-df-quickchart {\n",
              "    background-color: #E8F0FE;\n",
              "    border: none;\n",
              "    border-radius: 50%;\n",
              "    cursor: pointer;\n",
              "    display: none;\n",
              "    fill: #1967D2;\n",
              "    height: 32px;\n",
              "    padding: 0 0 0 0;\n",
              "    width: 32px;\n",
              "  }\n",
              "\n",
              "  .colab-df-quickchart:hover {\n",
              "    background-color: #E2EBFA;\n",
              "    box-shadow: 0px 1px 2px rgba(60, 64, 67, 0.3), 0px 1px 3px 1px rgba(60, 64, 67, 0.15);\n",
              "    fill: #174EA6;\n",
              "  }\n",
              "\n",
              "  [theme=dark] .colab-df-quickchart {\n",
              "    background-color: #3B4455;\n",
              "    fill: #D2E3FC;\n",
              "  }\n",
              "\n",
              "  [theme=dark] .colab-df-quickchart:hover {\n",
              "    background-color: #434B5C;\n",
              "    box-shadow: 0px 1px 3px 1px rgba(0, 0, 0, 0.15);\n",
              "    filter: drop-shadow(0px 1px 2px rgba(0, 0, 0, 0.3));\n",
              "    fill: #FFFFFF;\n",
              "  }\n",
              "</style>\n",
              "\n",
              "    <script>\n",
              "      async function quickchart(key) {\n",
              "        const containerElement = document.querySelector('#' + key);\n",
              "        const charts = await google.colab.kernel.invokeFunction(\n",
              "            'suggestCharts', [key], {});\n",
              "      }\n",
              "    </script>\n",
              "\n",
              "      <script>\n",
              "\n",
              "function displayQuickchartButton(domScope) {\n",
              "  let quickchartButtonEl =\n",
              "    domScope.querySelector('#df-4b62a92d-ade9-4505-bc89-19528822ef24 button.colab-df-quickchart');\n",
              "  quickchartButtonEl.style.display =\n",
              "    google.colab.kernel.accessAllowed ? 'block' : 'none';\n",
              "}\n",
              "\n",
              "        displayQuickchartButton(document);\n",
              "      </script>\n",
              "      <style>\n",
              "    .colab-df-container {\n",
              "      display:flex;\n",
              "      flex-wrap:wrap;\n",
              "      gap: 12px;\n",
              "    }\n",
              "\n",
              "    .colab-df-convert {\n",
              "      background-color: #E8F0FE;\n",
              "      border: none;\n",
              "      border-radius: 50%;\n",
              "      cursor: pointer;\n",
              "      display: none;\n",
              "      fill: #1967D2;\n",
              "      height: 32px;\n",
              "      padding: 0 0 0 0;\n",
              "      width: 32px;\n",
              "    }\n",
              "\n",
              "    .colab-df-convert:hover {\n",
              "      background-color: #E2EBFA;\n",
              "      box-shadow: 0px 1px 2px rgba(60, 64, 67, 0.3), 0px 1px 3px 1px rgba(60, 64, 67, 0.15);\n",
              "      fill: #174EA6;\n",
              "    }\n",
              "\n",
              "    [theme=dark] .colab-df-convert {\n",
              "      background-color: #3B4455;\n",
              "      fill: #D2E3FC;\n",
              "    }\n",
              "\n",
              "    [theme=dark] .colab-df-convert:hover {\n",
              "      background-color: #434B5C;\n",
              "      box-shadow: 0px 1px 3px 1px rgba(0, 0, 0, 0.15);\n",
              "      filter: drop-shadow(0px 1px 2px rgba(0, 0, 0, 0.3));\n",
              "      fill: #FFFFFF;\n",
              "    }\n",
              "  </style>\n",
              "\n",
              "      <script>\n",
              "        const buttonEl =\n",
              "          document.querySelector('#df-80f1ed3d-9387-4bc8-b9c6-9a2440a86f90 button.colab-df-convert');\n",
              "        buttonEl.style.display =\n",
              "          google.colab.kernel.accessAllowed ? 'block' : 'none';\n",
              "\n",
              "        async function convertToInteractive(key) {\n",
              "          const element = document.querySelector('#df-80f1ed3d-9387-4bc8-b9c6-9a2440a86f90');\n",
              "          const dataTable =\n",
              "            await google.colab.kernel.invokeFunction('convertToInteractive',\n",
              "                                                     [key], {});\n",
              "          if (!dataTable) return;\n",
              "\n",
              "          const docLinkHtml = 'Like what you see? Visit the ' +\n",
              "            '<a target=\"_blank\" href=https://colab.research.google.com/notebooks/data_table.ipynb>data table notebook</a>'\n",
              "            + ' to learn more about interactive tables.';\n",
              "          element.innerHTML = '';\n",
              "          dataTable['output_type'] = 'display_data';\n",
              "          await google.colab.output.renderOutput(dataTable, element);\n",
              "          const docLink = document.createElement('div');\n",
              "          docLink.innerHTML = docLinkHtml;\n",
              "          element.appendChild(docLink);\n",
              "        }\n",
              "      </script>\n",
              "    </div>\n",
              "  </div>\n"
            ]
          },
          "metadata": {},
          "execution_count": 4
        }
      ]
    },
    {
      "cell_type": "markdown",
      "source": [
        "### 2.3 Extract Publish Year"
      ],
      "metadata": {
        "id": "p7antl3c8aUr"
      }
    },
    {
      "cell_type": "code",
      "source": [
        "df['publish year'] = 0\n",
        "for index in range(len(df)):\n",
        "  df['publish year'][index] = re.findall('\\\\d{4}',str(df['date'][index]))[0]\n",
        "\n",
        "df['publish year'].unique()"
      ],
      "metadata": {
        "colab": {
          "base_uri": "https://localhost:8080/"
        },
        "id": "oE6F__ud6G1R",
        "outputId": "558fa24f-d276-4260-97fa-8070a29415ea"
      },
      "execution_count": 5,
      "outputs": [
        {
          "output_type": "stream",
          "name": "stderr",
          "text": [
            "<ipython-input-5-b4607e74ddf3>:3: SettingWithCopyWarning: \n",
            "A value is trying to be set on a copy of a slice from a DataFrame\n",
            "\n",
            "See the caveats in the documentation: https://pandas.pydata.org/pandas-docs/stable/user_guide/indexing.html#returning-a-view-versus-a-copy\n",
            "  df['publish year'][index] = re.findall('\\\\d{4}',str(df['date'][index]))[0]\n"
          ]
        },
        {
          "output_type": "execute_result",
          "data": {
            "text/plain": [
              "array(['2020', '2019', '2018', '2017', '2016', '2015', '2014', '2013'],\n",
              "      dtype=object)"
            ]
          },
          "metadata": {},
          "execution_count": 5
        }
      ]
    },
    {
      "cell_type": "code",
      "execution_count": 6,
      "metadata": {
        "colab": {
          "base_uri": "https://localhost:8080/"
        },
        "id": "mU3sqK3y7Dz_",
        "outputId": "b8a04a93-9673-414e-8fca-19e41f6ae604"
      },
      "outputs": [
        {
          "output_type": "stream",
          "name": "stdout",
          "text": [
            "<class 'pandas.core.frame.DataFrame'>\n",
            "RangeIndex: 11000 entries, 0 to 10999\n",
            "Data columns (total 8 columns):\n",
            " #   Column        Non-Null Count  Dtype \n",
            "---  ------        --------------  ----- \n",
            " 0   Unnamed: 0    11000 non-null  int64 \n",
            " 1   id            11000 non-null  object\n",
            " 2   title         11000 non-null  object\n",
            " 3   date          11000 non-null  object\n",
            " 4   author        11000 non-null  object\n",
            " 5   story         11000 non-null  object\n",
            " 6   topic         11000 non-null  object\n",
            " 7   publish year  11000 non-null  object\n",
            "dtypes: int64(1), object(7)\n",
            "memory usage: 687.6+ KB\n"
          ]
        }
      ],
      "source": [
        "df.info()"
      ]
    },
    {
      "cell_type": "markdown",
      "metadata": {
        "id": "gVUNWTKaG8Ee"
      },
      "source": [
        "### 2.3 Plotting targets distribution"
      ]
    },
    {
      "cell_type": "code",
      "execution_count": 7,
      "metadata": {
        "colab": {
          "base_uri": "https://localhost:8080/",
          "height": 632
        },
        "id": "BAJ_kli46hdH",
        "outputId": "01466ce4-cbdc-44d7-9a83-528833de282a"
      },
      "outputs": [
        {
          "output_type": "stream",
          "name": "stdout",
          "text": [
            "faits-divers          1000\n",
            "marocains-du-monde    1000\n",
            "medias                1000\n",
            "politique             1000\n",
            "orbites               1000\n",
            "regions               1000\n",
            "sport                 1000\n",
            "societe               1000\n",
            "tamazight             1000\n",
            "art-et-culture        1000\n",
            "economie              1000\n",
            "Name: topic, dtype: int64\n"
          ]
        },
        {
          "output_type": "execute_result",
          "data": {
            "text/plain": [
              "<Axes: >"
            ]
          },
          "metadata": {},
          "execution_count": 7
        },
        {
          "output_type": "display_data",
          "data": {
            "text/plain": [
              "<Figure size 640x480 with 1 Axes>"
            ],
            "image/png": "[encoded data removed]"
          },
          "metadata": {}
        }
      ],
      "source": [
        "print(df['topic'].value_counts())\n",
        "df.groupby('topic').size().plot(kind='pie',\n",
        "                                   y=\"topic\",\n",
        "                                   label=\"\",\n",
        "                                   autopct='%1.1f%%')"
      ]
    },
    {
      "cell_type": "markdown",
      "source": [
        "#### From this pie chart, we can see that the data is balanced."
      ],
      "metadata": {
        "id": "NyM5J3nCBG2c"
      }
    },
    {
      "cell_type": "code",
      "source": [
        "publish_years = sorted(df['publish year'].unique())\n",
        "publish_year_values_count = df['publish year'].value_counts()\n",
        "sn.countplot(x='publish year', data=df)\n",
        "for index, publish_year in enumerate(publish_years):\n",
        "  percentage = f'{100 * publish_year_values_count[index] / len(df):.2f}%'\n",
        "  plt.text(index, publish_year_values_count[index], str(percentage), ha='center', color='blue', fontsize=10)\n",
        "plt.show()"
      ],
      "metadata": {
        "colab": {
          "base_uri": "https://localhost:8080/",
          "height": 449
        },
        "id": "DAhbHTwe5-Qo",
        "outputId": "a2649524-5ec4-4507-fd73-185db611b0a0"
      },
      "execution_count": 8,
      "outputs": [
        {
          "output_type": "display_data",
          "data": {
            "text/plain": [
              "<Figure size 640x480 with 1 Axes>"
            ],
            "image/png": "[encoded data removed]"
          },
          "metadata": {}
        }
      ]
    },
    {
      "cell_type": "markdown",
      "source": [
        "#### From this count plot, we can see that most of the stories were published in 2020."
      ],
      "metadata": {
        "id": "C9XqouppBQ_J"
      }
    },
    {
      "cell_type": "markdown",
      "metadata": {
        "id": "ng--e5NRGwOC"
      },
      "source": [
        "## 3.0 Preprocessing Data"
      ]
    },
    {
      "cell_type": "markdown",
      "metadata": {
        "id": "qff8Go9yHaFX"
      },
      "source": [
        "### 3.1 Converting targets to one hot vectors"
      ]
    },
    {
      "cell_type": "code",
      "execution_count": 9,
      "metadata": {
        "id": "gVZwp8bU6jsf"
      },
      "outputs": [],
      "source": [
        "targets = np.array(pd.get_dummies(df['topic']))"
      ]
    },
    {
      "cell_type": "markdown",
      "metadata": {
        "id": "3mZn5hLvHL30"
      },
      "source": [
        "### 3.2 Cleaning and Preprocessing text"
      ]
    },
    {
      "cell_type": "code",
      "execution_count": 10,
      "metadata": {
        "id": "8f6Hx5TX6o3R"
      },
      "outputs": [],
      "source": [
        "def clean_text(text: str) -> str:\n",
        "  \"\"\"\n",
        "  Clean & preprocess `text` including:\n",
        "\n",
        "  - removing quotation marks\n",
        "  - removing digits and words containing digits\n",
        "  - removing punctuations\n",
        "  - removing ant consecutive spaces\n",
        "\n",
        "  Parameters:\n",
        "  ------------\n",
        "  - text : str\n",
        "    Text needed to be processed\n",
        "\n",
        "  Returns:\n",
        "  --------\n",
        "  - cleaned_text : str\n",
        "    A cleaned version of passed `text`\n",
        "  \"\"\"\n",
        "  punc = '،؛.:-—ـ؟!«»()[]<>/\\\\^*&{}'\n",
        "  text = re.sub(\"\\'\\w+\", '', text)\n",
        "  text = re.sub(r'\\w*\\d+\\w*', '', text)\n",
        "  for ele in text:\n",
        "    if ele in punc:\n",
        "        text = text.replace(ele, \"\")\n",
        "  cleaned_text = re.sub('\\s{2,}', \" \", text).strip()\n",
        "\n",
        "  return cleaned_text"
      ]
    },
    {
      "cell_type": "code",
      "execution_count": 11,
      "metadata": {
        "id": "cZ8mYXzp6qHz"
      },
      "outputs": [],
      "source": [
        "df['clean_text'] = df['story'].apply(clean_text)"
      ]
    },
    {
      "cell_type": "code",
      "source": [
        "df.head()"
      ],
      "metadata": {
        "colab": {
          "base_uri": "https://localhost:8080/",
          "height": 441
        },
        "id": "h5Uqq_sm44Jt",
        "outputId": "3040c088-e9c0-4404-fa6c-125ba71a88f2"
      },
      "execution_count": 12,
      "outputs": [
        {
          "output_type": "execute_result",
          "data": {
            "text/plain": [
              "   Unnamed: 0                                id  \\\n",
              "0           0  9d9ebd0204f811eb92ec646e69d991ea   \n",
              "1           1  9e96ecc604f811eb836a646e69d991ea   \n",
              "2           2  9fc1ec4204f811eb8619646e69d991ea   \n",
              "3           3  a0a2fa9c04f811eb8580646e69d991ea   \n",
              "4           4  a2d0124a04f811eba88f646e69d991ea   \n",
              "\n",
              "                                             title  \\\n",
              "0       شهادة طبيب جراح \"تورط\" قنصلا بتر أصبع مسنة   \n",
              "1       إحباط تهريب أكثر من طن من \"الحشيش\" بأكادير   \n",
              "2       كمين أمن الصويرة يسقط شبكة هجرة غير نظامية   \n",
              "3  \"تلميذة زاكورة\" تتهم زوج أختها باستغلالها جنسيا   \n",
              "4    \"أحجار كريمة مزيفة\" تورط أشخاصا بمدينة أكادير   \n",
              "\n",
              "                            date                   author  \\\n",
              "0  الجمعة 02 أكتوبر 2020 - 20:08  هسبريس من الدار البيضاء   \n",
              "1  الجمعة 02 أكتوبر 2020 - 19:37    رشيد بيجيكن من أكادير   \n",
              "2  الجمعة 02 أكتوبر 2020 - 18:35  ابراهيم مغراوي من مراكش   \n",
              "3  الجمعة 02 أكتوبر 2020 - 14:20         هسبريس من زاكورة   \n",
              "4  الجمعة 02 أكتوبر 2020 - 10:05    رشيد بيجيكن من أكادير   \n",
              "\n",
              "                                               story         topic  \\\n",
              "0  قررت الغرفة الجنائية بمحكمة الاستئناف بمدينة ا...  faits-divers   \n",
              "1  تمكنت المصلحة الولائية للشرطة القضائية بمدينة ...  faits-divers   \n",
              "2  أوقفت عناصر فرقة الشرطة القضائية بالمنطقة الإق...  faits-divers   \n",
              "3  كشف مصدر أمني مسؤول أن التلميذة المتحدرة من جم...  faits-divers   \n",
              "4  تمكنت عناصر المصلحة الولائية للشرطة القضائية ب...  faits-divers   \n",
              "\n",
              "  publish year                                         clean_text  \n",
              "0         2020  قررت الغرفة الجنائية بمحكمة الاستئناف بمدينة ا...  \n",
              "1         2020  تمكنت المصلحة الولائية للشرطة القضائية بمدينة ...  \n",
              "2         2020  أوقفت عناصر فرقة الشرطة القضائية بالمنطقة الإق...  \n",
              "3         2020  كشف مصدر أمني مسؤول أن التلميذة المتحدرة من جم...  \n",
              "4         2020  تمكنت عناصر المصلحة الولائية للشرطة القضائية ب...  "
            ],
            "text/html": [
              "\n",
              "\n",
              "  <div id=\"df-7c117f1b-8d71-43d0-af53-2d9303be8c31\">\n",
              "    <div class=\"colab-df-container\">\n",
              "      <div>\n",
              "<style scoped>\n",
              "    .dataframe tbody tr th:only-of-type {\n",
              "        vertical-align: middle;\n",
              "    }\n",
              "\n",
              "    .dataframe tbody tr th {\n",
              "        vertical-align: top;\n",
              "    }\n",
              "\n",
              "    .dataframe thead th {\n",
              "        text-align: right;\n",
              "    }\n",
              "</style>\n",
              "<table border=\"1\" class=\"dataframe\">\n",
              "  <thead>\n",
              "    <tr style=\"text-align: right;\">\n",
              "      <th></th>\n",
              "      <th>Unnamed: 0</th>\n",
              "      <th>id</th>\n",
              "      <th>title</th>\n",
              "      <th>date</th>\n",
              "      <th>author</th>\n",
              "      <th>story</th>\n",
              "      <th>topic</th>\n",
              "      <th>publish year</th>\n",
              "      <th>clean_text</th>\n",
              "    </tr>\n",
              "  </thead>\n",
              "  <tbody>\n",
              "    <tr>\n",
              "      <th>0</th>\n",
              "      <td>0</td>\n",
              "      <td>9d9ebd0204f811eb92ec646e69d991ea</td>\n",
              "      <td>شهادة طبيب جراح \"تورط\" قنصلا بتر أصبع مسنة</td>\n",
              "      <td>الجمعة 02 أكتوبر 2020 - 20:08</td>\n",
              "      <td>هسبريس من الدار البيضاء</td>\n",
              "      <td>قررت الغرفة الجنائية بمحكمة الاستئناف بمدينة ا...</td>\n",
              "      <td>faits-divers</td>\n",
              "      <td>2020</td>\n",
              "      <td>قررت الغرفة الجنائية بمحكمة الاستئناف بمدينة ا...</td>\n",
              "    </tr>\n",
              "    <tr>\n",
              "      <th>1</th>\n",
              "      <td>1</td>\n",
              "      <td>9e96ecc604f811eb836a646e69d991ea</td>\n",
              "      <td>إحباط تهريب أكثر من طن من \"الحشيش\" بأكادير</td>\n",
              "      <td>الجمعة 02 أكتوبر 2020 - 19:37</td>\n",
              "      <td>رشيد بيجيكن من أكادير</td>\n",
              "      <td>تمكنت المصلحة الولائية للشرطة القضائية بمدينة ...</td>\n",
              "      <td>faits-divers</td>\n",
              "      <td>2020</td>\n",
              "      <td>تمكنت المصلحة الولائية للشرطة القضائية بمدينة ...</td>\n",
              "    </tr>\n",
              "    <tr>\n",
              "      <th>2</th>\n",
              "      <td>2</td>\n",
              "      <td>9fc1ec4204f811eb8619646e69d991ea</td>\n",
              "      <td>كمين أمن الصويرة يسقط شبكة هجرة غير نظامية</td>\n",
              "      <td>الجمعة 02 أكتوبر 2020 - 18:35</td>\n",
              "      <td>ابراهيم مغراوي من مراكش</td>\n",
              "      <td>أوقفت عناصر فرقة الشرطة القضائية بالمنطقة الإق...</td>\n",
              "      <td>faits-divers</td>\n",
              "      <td>2020</td>\n",
              "      <td>أوقفت عناصر فرقة الشرطة القضائية بالمنطقة الإق...</td>\n",
              "    </tr>\n",
              "    <tr>\n",
              "      <th>3</th>\n",
              "      <td>3</td>\n",
              "      <td>a0a2fa9c04f811eb8580646e69d991ea</td>\n",
              "      <td>\"تلميذة زاكورة\" تتهم زوج أختها باستغلالها جنسيا</td>\n",
              "      <td>الجمعة 02 أكتوبر 2020 - 14:20</td>\n",
              "      <td>هسبريس من زاكورة</td>\n",
              "      <td>كشف مصدر أمني مسؤول أن التلميذة المتحدرة من جم...</td>\n",
              "      <td>faits-divers</td>\n",
              "      <td>2020</td>\n",
              "      <td>كشف مصدر أمني مسؤول أن التلميذة المتحدرة من جم...</td>\n",
              "    </tr>\n",
              "    <tr>\n",
              "      <th>4</th>\n",
              "      <td>4</td>\n",
              "      <td>a2d0124a04f811eba88f646e69d991ea</td>\n",
              "      <td>\"أحجار كريمة مزيفة\" تورط أشخاصا بمدينة أكادير</td>\n",
              "      <td>الجمعة 02 أكتوبر 2020 - 10:05</td>\n",
              "      <td>رشيد بيجيكن من أكادير</td>\n",
              "      <td>تمكنت عناصر المصلحة الولائية للشرطة القضائية ب...</td>\n",
              "      <td>faits-divers</td>\n",
              "      <td>2020</td>\n",
              "      <td>تمكنت عناصر المصلحة الولائية للشرطة القضائية ب...</td>\n",
              "    </tr>\n",
              "  </tbody>\n",
              "</table>\n",
              "</div>\n",
              "      <button class=\"colab-df-convert\" onclick=\"convertToInteractive('df-7c117f1b-8d71-43d0-af53-2d9303be8c31')\"\n",
              "              title=\"Convert this dataframe to an interactive table.\"\n",
              "              style=\"display:none;\">\n",
              "\n",
              "  <svg xmlns=\"http://www.w3.org/2000/svg\" height=\"24px\"viewBox=\"0 0 24 24\"\n",
              "       width=\"24px\">\n",
              "    <path d=\"M0 0h24v24H0V0z\" fill=\"none\"/>\n",
              "    <path d=\"M18.56 5.44l.94 2.06.94-2.06 2.06-.94-2.06-.94-.94-2.06-.94 2.06-2.06.94zm-11 1L8.5 8.5l.94-2.06 2.06-.94-2.06-.94L8.5 2.5l-.94 2.06-2.06.94zm10 10l.94 2.06.94-2.06 2.06-.94-2.06-.94-.94-2.06-.94 2.06-2.06.94z\"/><path d=\"M17.41 7.96l-1.37-1.37c-.4-.4-.92-.59-1.43-.59-.52 0-1.04.2-1.43.59L10.3 9.45l-7.72 7.72c-.78.78-.78 2.05 0 2.83L4 21.41c.39.39.9.59 1.41.59.51 0 1.02-.2 1.41-.59l7.78-7.78 2.81-2.81c.8-.78.8-2.07 0-2.86zM5.41 20L4 18.59l7.72-7.72 1.47 1.35L5.41 20z\"/>\n",
              "  </svg>\n",
              "      </button>\n",
              "\n",
              "\n",
              "\n",
              "    <div id=\"df-6fa11d13-722a-4495-b255-24e8b3bb8b62\">\n",
              "      <button class=\"colab-df-quickchart\" onclick=\"quickchart('df-6fa11d13-722a-4495-b255-24e8b3bb8b62')\"\n",
              "              title=\"Suggest charts.\"\n",
              "              style=\"display:none;\">\n",
              "\n",
              "<svg xmlns=\"http://www.w3.org/2000/svg\" height=\"24px\"viewBox=\"0 0 24 24\"\n",
              "     width=\"24px\">\n",
              "    <g>\n",
              "        <path d=\"M19 3H5c-1.1 0-2 .9-2 2v14c0 1.1.9 2 2 2h14c1.1 0 2-.9 2-2V5c0-1.1-.9-2-2-2zM9 17H7v-7h2v7zm4 0h-2V7h2v10zm4 0h-2v-4h2v4z\"/>\n",
              "    </g>\n",
              "</svg>\n",
              "      </button>\n",
              "    </div>\n",
              "\n",
              "<style>\n",
              "  .colab-df-quickchart {\n",
              "    background-color: #E8F0FE;\n",
              "    border: none;\n",
              "    border-radius: 50%;\n",
              "    cursor: pointer;\n",
              "    display: none;\n",
              "    fill: #1967D2;\n",
              "    height: 32px;\n",
              "    padding: 0 0 0 0;\n",
              "    width: 32px;\n",
              "  }\n",
              "\n",
              "  .colab-df-quickchart:hover {\n",
              "    background-color: #E2EBFA;\n",
              "    box-shadow: 0px 1px 2px rgba(60, 64, 67, 0.3), 0px 1px 3px 1px rgba(60, 64, 67, 0.15);\n",
              "    fill: #174EA6;\n",
              "  }\n",
              "\n",
              "  [theme=dark] .colab-df-quickchart {\n",
              "    background-color: #3B4455;\n",
              "    fill: #D2E3FC;\n",
              "  }\n",
              "\n",
              "  [theme=dark] .colab-df-quickchart:hover {\n",
              "    background-color: #434B5C;\n",
              "    box-shadow: 0px 1px 3px 1px rgba(0, 0, 0, 0.15);\n",
              "    filter: drop-shadow(0px 1px 2px rgba(0, 0, 0, 0.3));\n",
              "    fill: #FFFFFF;\n",
              "  }\n",
              "</style>\n",
              "\n",
              "    <script>\n",
              "      async function quickchart(key) {\n",
              "        const containerElement = document.querySelector('#' + key);\n",
              "        const charts = await google.colab.kernel.invokeFunction(\n",
              "            'suggestCharts', [key], {});\n",
              "      }\n",
              "    </script>\n",
              "\n",
              "      <script>\n",
              "\n",
              "function displayQuickchartButton(domScope) {\n",
              "  let quickchartButtonEl =\n",
              "    domScope.querySelector('#df-6fa11d13-722a-4495-b255-24e8b3bb8b62 button.colab-df-quickchart');\n",
              "  quickchartButtonEl.style.display =\n",
              "    google.colab.kernel.accessAllowed ? 'block' : 'none';\n",
              "}\n",
              "\n",
              "        displayQuickchartButton(document);\n",
              "      </script>\n",
              "      <style>\n",
              "    .colab-df-container {\n",
              "      display:flex;\n",
              "      flex-wrap:wrap;\n",
              "      gap: 12px;\n",
              "    }\n",
              "\n",
              "    .colab-df-convert {\n",
              "      background-color: #E8F0FE;\n",
              "      border: none;\n",
              "      border-radius: 50%;\n",
              "      cursor: pointer;\n",
              "      display: none;\n",
              "      fill: #1967D2;\n",
              "      height: 32px;\n",
              "      padding: 0 0 0 0;\n",
              "      width: 32px;\n",
              "    }\n",
              "\n",
              "    .colab-df-convert:hover {\n",
              "      background-color: #E2EBFA;\n",
              "      box-shadow: 0px 1px 2px rgba(60, 64, 67, 0.3), 0px 1px 3px 1px rgba(60, 64, 67, 0.15);\n",
              "      fill: #174EA6;\n",
              "    }\n",
              "\n",
              "    [theme=dark] .colab-df-convert {\n",
              "      background-color: #3B4455;\n",
              "      fill: #D2E3FC;\n",
              "    }\n",
              "\n",
              "    [theme=dark] .colab-df-convert:hover {\n",
              "      background-color: #434B5C;\n",
              "      box-shadow: 0px 1px 3px 1px rgba(0, 0, 0, 0.15);\n",
              "      filter: drop-shadow(0px 1px 2px rgba(0, 0, 0, 0.3));\n",
              "      fill: #FFFFFF;\n",
              "    }\n",
              "  </style>\n",
              "\n",
              "      <script>\n",
              "        const buttonEl =\n",
              "          document.querySelector('#df-7c117f1b-8d71-43d0-af53-2d9303be8c31 button.colab-df-convert');\n",
              "        buttonEl.style.display =\n",
              "          google.colab.kernel.accessAllowed ? 'block' : 'none';\n",
              "\n",
              "        async function convertToInteractive(key) {\n",
              "          const element = document.querySelector('#df-7c117f1b-8d71-43d0-af53-2d9303be8c31');\n",
              "          const dataTable =\n",
              "            await google.colab.kernel.invokeFunction('convertToInteractive',\n",
              "                                                     [key], {});\n",
              "          if (!dataTable) return;\n",
              "\n",
              "          const docLinkHtml = 'Like what you see? Visit the ' +\n",
              "            '<a target=\"_blank\" href=https://colab.research.google.com/notebooks/data_table.ipynb>data table notebook</a>'\n",
              "            + ' to learn more about interactive tables.';\n",
              "          element.innerHTML = '';\n",
              "          dataTable['output_type'] = 'display_data';\n",
              "          await google.colab.output.renderOutput(dataTable, element);\n",
              "          const docLink = document.createElement('div');\n",
              "          docLink.innerHTML = docLinkHtml;\n",
              "          element.appendChild(docLink);\n",
              "        }\n",
              "      </script>\n",
              "    </div>\n",
              "  </div>\n"
            ]
          },
          "metadata": {},
          "execution_count": 12
        }
      ]
    },
    {
      "cell_type": "markdown",
      "metadata": {
        "id": "U9sa8yuwHPHq"
      },
      "source": [
        "## 4.0 Splitting Data to training and testing parts"
      ]
    },
    {
      "cell_type": "code",
      "execution_count": 13,
      "metadata": {
        "id": "OLyGtjqx6wFJ"
      },
      "outputs": [],
      "source": [
        "X_train, X_test, y_train, y_test = train_test_split(df['clean_text'], targets, test_size=0.2, stratify=df['topic'])"
      ]
    },
    {
      "cell_type": "code",
      "execution_count": 14,
      "metadata": {
        "colab": {
          "base_uri": "https://localhost:8080/"
        },
        "id": "XnwgNPbC6zbk",
        "outputId": "ba3af01c-88d4-464b-f926-09578cdca720"
      },
      "outputs": [
        {
          "output_type": "stream",
          "name": "stdout",
          "text": [
            "X_train shape: (8800,)\n",
            "y_train shape: (8800, 11)\n",
            "X_test shape: (2200,)\n",
            "y_test shape: (2200, 11)\n"
          ]
        }
      ],
      "source": [
        "print(f\"X_train shape: {X_train.shape}\")\n",
        "print(f\"y_train shape: {y_train.shape}\")\n",
        "print(f\"X_test shape: {X_test.shape}\")\n",
        "print(f\"y_test shape: {y_test.shape}\")"
      ]
    },
    {
      "cell_type": "markdown",
      "metadata": {
        "id": "EZRRCKgBIPuq"
      },
      "source": [
        "## 4.0 Splitting Data to training and testing parts"
      ]
    },
    {
      "cell_type": "code",
      "execution_count": 15,
      "metadata": {
        "id": "HXoPPgSMIPuq"
      },
      "outputs": [],
      "source": [
        "X_train, X_test, y_train, y_test = train_test_split(df['clean_text'], targets, test_size=0.2, stratify=df['topic'])"
      ]
    },
    {
      "cell_type": "code",
      "execution_count": 16,
      "metadata": {
        "colab": {
          "base_uri": "https://localhost:8080/"
        },
        "outputId": "8f057300-2b21-4d83-f81a-00170769cbaf",
        "id": "5LW0NgViIPuq"
      },
      "outputs": [
        {
          "output_type": "stream",
          "name": "stdout",
          "text": [
            "X_train shape: (8800,)\n",
            "y_train shape: (8800, 11)\n",
            "X_test shape: (2200,)\n",
            "y_test shape: (2200, 11)\n"
          ]
        }
      ],
      "source": [
        "print(f\"X_train shape: {X_train.shape}\")\n",
        "print(f\"y_train shape: {y_train.shape}\")\n",
        "print(f\"X_test shape: {X_test.shape}\")\n",
        "print(f\"y_test shape: {y_test.shape}\")"
      ]
    },
    {
      "cell_type": "code",
      "execution_count": 17,
      "metadata": {
        "id": "8Zj1qSdr0Dcx",
        "outputId": "f8b334bc-4a24-4fa9-b57e-24e4c78e0ba5",
        "colab": {
          "base_uri": "https://localhost:8080/",
          "height": 105
        }
      },
      "outputs": [
        {
          "output_type": "execute_result",
          "data": {
            "text/plain": [
              "'رفضٌ متواصلٌ عكسته خرجات \"منتظمة\" على مستوى مواقع التّواصل الاجتماعي لمضامين المذكّرة الوزارية المتعلّقة بالدّخول المدرسي المقبل خاصة في الجانب المتعلّق بتصويرِ الدّروس الافتراضية حيث اشترطت وزارة أمزازي أن تكون التّسجيلات التي سيبثّها الأساتذة لصالح التّلاميذ بجودة عالية وتقنيات \"معقّدة\"ووضعت وزارة التربية الوطنية سيناريوهين للدخول المدرسي المقبل كلاهما مرتبط بالوضعية الوبائية في البلاد بعد شهر من الآن فإذا استمرت الجائحة ومعها حالة الطوارئ الصحية المعمول بها منذ منتصف شهر مارس الماضي ستَتوزع الدراسة بين الدروس الحضورية والتعليم عن بُعدوألزمت وزارة التّربية الوطنية الأساتذة بتصوير وبثّ الدّروس الافتراضية بطريقة احترافية وجودة عالية وهو ما يعاكسُ إمكانات الأطر التّربوية التي تؤكّد أنها تجهل كيفية تشغيل الكاميرات وأنها لم تستفد من أيّ دورات تكوينية في مجالي المونطاج والتّصويرويقفُ الفاعل التّربوي عبد الوهاب السحيمي عند الضّبابية التي خلّفها المقرر الوزاري الصادر لتنظيم السنة الدراسية المقبلة مؤكّداً أنّ \"الأساتذة كانوا ينتظرون صدور مذكرة وزارية تحدد بشكل واضح وصريح آليات وصيغ الدخول المدرسي المقبل\"وقال السّحيمي إنّ \"وزارة التربية الوطنية زادت الوضع غموضا ولبسا بإصدارها بلاغا يحمل عدة أوجه ومليء بالتناقضات مما جعل الجميع في حيرة غير مسبوقة خاصّة أن الظرفية صعبة واستثنائية وعوض أن تتدارك الوزارة الأمر بإصدار مذكرة توضح النقط الغامضة فيه زادت في تعقيد الوضعية بإصدارها مذكرة تحمل رقم \"وأضاف الأستاذ والفاعل التّربوي أنّه \"من خلال التدابير التي أعلنتها الوزارة في بلاغها وفي المذكرة لتنظيم الدخول المدرسي يتأكد للجميع بأن مسؤولي وزارة التربية الوطنية يدبرون القطاع بارتجالية كبيرة ويفتقرون لأي رؤية لتدبير السنة الدراسية\"واسترسلَ المتحدّث ذاته قائلاً إنّ \"المذكرة فرضت مهام جديدة على نساء ورجال التعليم وهي مهام لا يمكن أن نصفها إلا بالمهام التعسفية وغير القانونية وللأساتذة كامل الحق في رفضها دون أن تطالهم أي تبعات قانونية\" مشيرا إلى أنّ \"مهام نساء ورجال التعليم معروفة ومحددة بموجب النظام الأساسي الخاص بموظفي وزارة التربية الوطنية\"وتابع السحيمي قائلا \"تكليف الأساتذة بمهمتي التعقيم والمراقبة المشددة قبل دخول كل حصة دراسية وبعدها لا يمكن نعته إلا بالقرار المهزلة وهو قرار يأتي في سياق مسلسل الإهانة والإذلال الذي تتبعه الوزارة الوصية تجاه نساء ورجال التعليم\"وتساءل الأستاذ ذاته \"كيف يمكن تصور أن نطلب من الأستاذ المثقل أصلا بعدة مهام في التعليم الحضوري وعن بعد والتحضير اليومي أن يقوم بمهام جديدة كالتعقيم والمراقبة\" قبل أن يضيف أنّ \"مسؤولي وزارة التربية الوطنية يستمرون في تدبيرهم للقطاع بأسلوبي الارتجالية والترقيع\"ويتوقّف الباحث ذاته عن مهمّة التعقيم وكذلك المساعدة على المراقبة قبل وبعد دخول المؤسسات مشيرا إلى أن هذه المهمة كان يمكن أن تقوم بها شركات خاصة على غرار شركات الأمن بعد صفقة تبرمها الوزارة الوصية مضيفا أنّ \"المذكرة وفي خطوة غريبة جدا فرضت خطوات يجب اتباعها لتصوير الدروس عن بعد وهي خطوات صعبة جدا يصعب احترامها حتى مع محترفي التصوير والمونطاج\"وقال السحيمي إنّ \"مهام الأساتذة واضحة وهي التدريس وليس التصوير والمونطاج\" مؤكّداً أنّ \"الإجراءات التي تطرحها وزارة التربية الوطنية ما هي إلا ضحك على الذقون ويستحيل تنزيلها على أرض الواقع فالتصوير بالطريقة التي طرحتها الوزارة عبث وضرب من الخيال فالأساتذة غير مكونين في التصوير وفاقد الشيء لا يعطيه\"'"
            ],
            "application/vnd.google.colaboratory.intrinsic+json": {
              "type": "string"
            }
          },
          "metadata": {},
          "execution_count": 17
        }
      ],
      "source": [
        "X_train.iloc[110]"
      ]
    },
    {
      "cell_type": "markdown",
      "metadata": {
        "id": "hyFaxZyNHeoW"
      },
      "source": [
        "## 5.0 Preparing Data"
      ]
    },
    {
      "cell_type": "code",
      "execution_count": 18,
      "metadata": {
        "id": "JVTW2iTY68zM"
      },
      "outputs": [],
      "source": [
        "max_vocab = 2000\n",
        "maxlen = 256"
      ]
    },
    {
      "cell_type": "code",
      "execution_count": 19,
      "metadata": {
        "id": "HE2-UhSn7Zwg"
      },
      "outputs": [],
      "source": [
        "tokenizer = Tokenizer(num_words=max_vocab)\n",
        "tokenizer.fit_on_texts(X_train)"
      ]
    },
    {
      "cell_type": "code",
      "execution_count": 20,
      "metadata": {
        "id": "5ntbXcf87dDV"
      },
      "outputs": [],
      "source": [
        "X_train_vectors = tokenizer.texts_to_sequences(X_train)\n",
        "X_train_vectors = pad_sequences(X_train_vectors, maxlen=maxlen, padding='post', truncating='post')"
      ]
    },
    {
      "cell_type": "code",
      "execution_count": 21,
      "metadata": {
        "id": "e15-J4VN0Dcy"
      },
      "outputs": [],
      "source": [
        "with open('/content/drive/MyDrive/Datasets/Wide Bot Task Dataset/lstm_tokenizer.pickle', 'wb') as handle:\n",
        "    pickle.dump(tokenizer, handle, protocol=pickle.HIGHEST_PROTOCOL)"
      ]
    },
    {
      "cell_type": "code",
      "execution_count": 22,
      "metadata": {
        "id": "AH-IiXJw7fz9"
      },
      "outputs": [],
      "source": [
        "X_test_vectors = tokenizer.texts_to_sequences(X_test)\n",
        "X_test_vectors = pad_sequences(X_test_vectors, maxlen=maxlen, padding='post', truncating='post')"
      ]
    },
    {
      "cell_type": "markdown",
      "metadata": {
        "id": "Q_3xI7jaHjLs"
      },
      "source": [
        "## 6.0 Model Building"
      ]
    },
    {
      "cell_type": "code",
      "execution_count": 23,
      "metadata": {
        "id": "6ddy-3dI7hY6"
      },
      "outputs": [],
      "source": [
        "model = keras.Sequential([\n",
        "    keras.layers.Embedding(\n",
        "        max_vocab, 16, input_length=maxlen),\n",
        "    keras.layers.Dropout(0.2),\n",
        "    keras.layers.Conv1D(64, 5, activation='relu'),\n",
        "    keras.layers.MaxPooling1D(pool_size=4),\n",
        "    keras.layers.LSTM(64),\n",
        "    keras.layers.Dense(11, activation='softmax')\n",
        "])"
      ]
    },
    {
      "cell_type": "code",
      "execution_count": 24,
      "metadata": {
        "colab": {
          "base_uri": "https://localhost:8080/"
        },
        "id": "lMUx2wB37mfF",
        "outputId": "d531df44-13de-41df-e156-e2a288b4bf20"
      },
      "outputs": [
        {
          "output_type": "stream",
          "name": "stdout",
          "text": [
            "Model: \"sequential\"\n",
            "_________________________________________________________________\n",
            " Layer (type)                Output Shape              Param #   \n",
            "=================================================================\n",
            " embedding (Embedding)       (None, 256, 16)           32000     \n",
            "                                                                 \n",
            " dropout (Dropout)           (None, 256, 16)           0         \n",
            "                                                                 \n",
            " conv1d (Conv1D)             (None, 252, 64)           5184      \n",
            "                                                                 \n",
            " max_pooling1d (MaxPooling1D  (None, 63, 64)           0         \n",
            " )                                                               \n",
            "                                                                 \n",
            " lstm (LSTM)                 (None, 64)                33024     \n",
            "                                                                 \n",
            " dense (Dense)               (None, 11)                715       \n",
            "                                                                 \n",
            "=================================================================\n",
            "Total params: 70,923\n",
            "Trainable params: 70,923\n",
            "Non-trainable params: 0\n",
            "_________________________________________________________________\n"
          ]
        }
      ],
      "source": [
        "model.summary()"
      ]
    },
    {
      "cell_type": "markdown",
      "metadata": {
        "id": "E0xs9fK1HlYa"
      },
      "source": [
        "## 7.0 Model Compiling"
      ]
    },
    {
      "cell_type": "code",
      "execution_count": 25,
      "metadata": {
        "id": "mYvMtrXQ7rAo"
      },
      "outputs": [],
      "source": [
        "model.compile(loss='categorical_crossentropy', optimizer='adam', metrics=['accuracy'])"
      ]
    },
    {
      "cell_type": "markdown",
      "metadata": {
        "id": "-mugMl9CHmxj"
      },
      "source": [
        "## 8.0 Model Training"
      ]
    },
    {
      "cell_type": "code",
      "execution_count": 26,
      "metadata": {
        "colab": {
          "base_uri": "https://localhost:8080/"
        },
        "id": "t2ye2Jvk7tUB",
        "outputId": "2bbf12a0-f2ff-4e32-e339-9574102582a6"
      },
      "outputs": [
        {
          "output_type": "stream",
          "name": "stdout",
          "text": [
            "Epoch 1/20\n",
            "275/275 [==============================] - 13s 41ms/step - loss: 2.1445 - accuracy: 0.1770 - val_loss: 1.9062 - val_accuracy: 0.2591\n",
            "Epoch 2/20\n",
            "275/275 [==============================] - 11s 39ms/step - loss: 1.7654 - accuracy: 0.2885 - val_loss: 1.6400 - val_accuracy: 0.3591\n",
            "Epoch 3/20\n",
            "275/275 [==============================] - 10s 36ms/step - loss: 1.4190 - accuracy: 0.4310 - val_loss: 1.4102 - val_accuracy: 0.4523\n",
            "Epoch 4/20\n",
            "275/275 [==============================] - 10s 38ms/step - loss: 1.4509 - accuracy: 0.4573 - val_loss: 2.0156 - val_accuracy: 0.2477\n",
            "Epoch 5/20\n",
            "275/275 [==============================] - 11s 39ms/step - loss: 1.5925 - accuracy: 0.3816 - val_loss: 1.4914 - val_accuracy: 0.4118\n",
            "Epoch 6/20\n",
            "275/275 [==============================] - 11s 42ms/step - loss: 1.2588 - accuracy: 0.5065 - val_loss: 1.3468 - val_accuracy: 0.4909\n",
            "Epoch 7/20\n",
            "275/275 [==============================] - 11s 39ms/step - loss: 1.1393 - accuracy: 0.5722 - val_loss: 1.2261 - val_accuracy: 0.5914\n",
            "Epoch 8/20\n",
            "275/275 [==============================] - 12s 43ms/step - loss: 1.1071 - accuracy: 0.5978 - val_loss: 1.2316 - val_accuracy: 0.5909\n",
            "Epoch 9/20\n",
            "275/275 [==============================] - 10s 37ms/step - loss: 0.9787 - accuracy: 0.6545 - val_loss: 1.1417 - val_accuracy: 0.6141\n",
            "Epoch 10/20\n",
            "275/275 [==============================] - 10s 37ms/step - loss: 0.8988 - accuracy: 0.6853 - val_loss: 1.0630 - val_accuracy: 0.6509\n",
            "Epoch 11/20\n",
            "275/275 [==============================] - 11s 39ms/step - loss: 0.8097 - accuracy: 0.7210 - val_loss: 1.0441 - val_accuracy: 0.6586\n",
            "Epoch 12/20\n",
            "275/275 [==============================] - 11s 39ms/step - loss: 0.7639 - accuracy: 0.7401 - val_loss: 0.9892 - val_accuracy: 0.6705\n",
            "Epoch 13/20\n",
            "275/275 [==============================] - 11s 39ms/step - loss: 0.7216 - accuracy: 0.7566 - val_loss: 0.9901 - val_accuracy: 0.6891\n",
            "Epoch 14/20\n",
            "275/275 [==============================] - 11s 39ms/step - loss: 0.6729 - accuracy: 0.7741 - val_loss: 0.9992 - val_accuracy: 0.6845\n",
            "Epoch 15/20\n",
            "275/275 [==============================] - 10s 35ms/step - loss: 0.6450 - accuracy: 0.7836 - val_loss: 0.9728 - val_accuracy: 0.6895\n",
            "Epoch 16/20\n",
            "275/275 [==============================] - 11s 39ms/step - loss: 0.5881 - accuracy: 0.8052 - val_loss: 0.9384 - val_accuracy: 0.7232\n",
            "Epoch 17/20\n",
            "275/275 [==============================] - 11s 39ms/step - loss: 0.5523 - accuracy: 0.8155 - val_loss: 0.9149 - val_accuracy: 0.7227\n",
            "Epoch 18/20\n",
            "275/275 [==============================] - 11s 39ms/step - loss: 0.5262 - accuracy: 0.8283 - val_loss: 0.9339 - val_accuracy: 0.7145\n",
            "Epoch 19/20\n",
            "275/275 [==============================] - 11s 39ms/step - loss: 0.4980 - accuracy: 0.8359 - val_loss: 0.9478 - val_accuracy: 0.7291\n",
            "Epoch 20/20\n",
            "275/275 [==============================] - 10s 36ms/step - loss: 0.4646 - accuracy: 0.8492 - val_loss: 0.8605 - val_accuracy: 0.7464\n"
          ]
        }
      ],
      "source": [
        "batch_size = 32\n",
        "epochs = 20\n",
        "history = model.fit(X_train_vectors, y_train, batch_size=batch_size, epochs=epochs, validation_data=(X_test_vectors, y_test))"
      ]
    },
    {
      "cell_type": "markdown",
      "metadata": {
        "id": "Uhn5_aaGHorQ"
      },
      "source": [
        "## 9.0 Model's Performance Plotting"
      ]
    },
    {
      "cell_type": "markdown",
      "metadata": {
        "id": "VrnRqi2tHqsM"
      },
      "source": [
        "### 9.1 Plotting Loss vs. Validation Loss"
      ]
    },
    {
      "cell_type": "code",
      "execution_count": 27,
      "metadata": {
        "colab": {
          "base_uri": "https://localhost:8080/",
          "height": 579
        },
        "id": "VRc5NHE17uxc",
        "outputId": "59f7c39a-cada-4cf6-c37f-ec08ca5be2cf"
      },
      "outputs": [
        {
          "output_type": "stream",
          "name": "stderr",
          "text": [
            "<ipython-input-27-3d1da40ad812>:1: MatplotlibDeprecationWarning: The seaborn styles shipped by Matplotlib are deprecated since 3.6, as they no longer correspond to the styles shipped by seaborn. However, they will remain available as 'seaborn-v0_8-<style>'. Alternatively, directly use the seaborn API instead.\n",
            "  plt.style.use(['seaborn'])\n"
          ]
        },
        {
          "output_type": "display_data",
          "data": {
            "text/plain": [
              "<Figure size 800x550 with 1 Axes>"
            ],
            "image/png": "[encoded data removed]"
          },
          "metadata": {}
        }
      ],
      "source": [
        "plt.style.use(['seaborn'])\n",
        "plt.title(\"Loss vs. Validation Loss Graph\")\n",
        "plt.plot(history.history[\"loss\"], color=\"orangered\", label=\"Loss\")\n",
        "plt.plot(history.history[\"val_loss\"], color=\"dodgerblue\", label=\"Validation Loss\")\n",
        "plt.xlabel(\"Epoch\")\n",
        "plt.ylabel(\"Loss\")\n",
        "plt.legend()\n",
        "plt.show()"
      ]
    },
    {
      "cell_type": "markdown",
      "metadata": {
        "id": "nGmkMd1CHuMI"
      },
      "source": [
        "### 9.2 Plotting Accuracy vs. Validation Accuracy"
      ]
    },
    {
      "cell_type": "code",
      "execution_count": 28,
      "metadata": {
        "colab": {
          "base_uri": "https://localhost:8080/",
          "height": 524
        },
        "id": "WHrd5KvMC0IH",
        "outputId": "b9ce9054-dd8d-40f1-871e-3025aa4afc67"
      },
      "outputs": [
        {
          "output_type": "display_data",
          "data": {
            "text/plain": [
              "<Figure size 800x550 with 1 Axes>"
            ],
            "image/png": "[encoded data removed]"
          },
          "metadata": {}
        }
      ],
      "source": [
        "plt.title(\"Accuracy vs. Validation Accuracy Graph\")\n",
        "plt.plot(history.history[\"accuracy\"], color=\"orangered\", label=\"Accuracy\")\n",
        "plt.plot(history.history[\"val_accuracy\"], color=\"dodgerblue\", label=\"Validation Accuracy\")\n",
        "plt.xlabel(\"Epoch\")\n",
        "plt.ylabel(\"Accuracy\")\n",
        "plt.legend()\n",
        "plt.show()"
      ]
    },
    {
      "cell_type": "markdown",
      "metadata": {
        "id": "s2sSJx-mH3yx"
      },
      "source": [
        "### 9.3 Plotting Classification Report  "
      ]
    },
    {
      "cell_type": "code",
      "execution_count": 29,
      "metadata": {
        "colab": {
          "base_uri": "https://localhost:8080/"
        },
        "id": "tlA0Q3uPC9au",
        "outputId": "71ebc9b0-d31d-45eb-a88f-fcd30e81a05b"
      },
      "outputs": [
        {
          "output_type": "stream",
          "name": "stdout",
          "text": [
            "69/69 [==============================] - 1s 13ms/step\n"
          ]
        }
      ],
      "source": [
        "predictions = model.predict(X_test_vectors)\n",
        "preds = np.where(predictions > 0.5, 1, 0)"
      ]
    },
    {
      "cell_type": "code",
      "execution_count": 30,
      "metadata": {
        "colab": {
          "base_uri": "https://localhost:8080/"
        },
        "id": "-RVTbsw2D4yg",
        "outputId": "ed1a1aab-951b-4743-a331-494af61ed13c"
      },
      "outputs": [
        {
          "output_type": "stream",
          "name": "stdout",
          "text": [
            "              precision    recall  f1-score   support\n",
            "\n",
            "           0       0.76      0.78      0.77       200\n",
            "           1       0.72      0.72      0.72       200\n",
            "           2       0.87      0.91      0.89       200\n",
            "           3       0.76      0.74      0.75       200\n",
            "           4       0.93      0.82      0.87       200\n",
            "           5       0.62      0.28      0.39       200\n",
            "           6       0.76      0.53      0.62       200\n",
            "           7       0.75      0.65      0.70       200\n",
            "           8       0.52      0.47      0.50       200\n",
            "           9       0.97      0.96      0.97       200\n",
            "          10       0.93      0.93      0.93       200\n",
            "\n",
            "   micro avg       0.79      0.71      0.75      2200\n",
            "   macro avg       0.78      0.71      0.74      2200\n",
            "weighted avg       0.78      0.71      0.74      2200\n",
            " samples avg       0.71      0.71      0.71      2200\n",
            "\n"
          ]
        },
        {
          "output_type": "stream",
          "name": "stderr",
          "text": [
            "/usr/local/lib/python3.10/dist-packages/sklearn/metrics/_classification.py:1344: UndefinedMetricWarning: Precision and F-score are ill-defined and being set to 0.0 in samples with no predicted labels. Use `zero_division` parameter to control this behavior.\n",
            "  _warn_prf(average, modifier, msg_start, len(result))\n"
          ]
        }
      ],
      "source": [
        "cls_report = classification_report(y_test, preds)\n",
        "print(cls_report)"
      ]
    },
    {
      "cell_type": "markdown",
      "metadata": {
        "id": "mDK67Or1H8cY"
      },
      "source": [
        "### 9.4 Plotting Confusion Matrix"
      ]
    },
    {
      "cell_type": "code",
      "execution_count": 31,
      "metadata": {
        "colab": {
          "base_uri": "https://localhost:8080/",
          "height": 504
        },
        "id": "OandRgw7EKC6",
        "outputId": "d248dd00-2822-4620-8744-a5f544fd6dee"
      },
      "outputs": [
        {
          "output_type": "display_data",
          "data": {
            "text/plain": [
              "<Figure size 800x550 with 2 Axes>"
            ],
            "image/png": "[encoded data removed]"
          },
          "metadata": {}
        }
      ],
      "source": [
        "y_test_vector = np.argmax(y_test, axis=1)\n",
        "y_pred_vector = np.argmax(preds, axis=1)\n",
        "conf_matrix = confusion_matrix(y_test_vector, y_pred_vector)\n",
        "sn.heatmap(conf_matrix, annot=True)\n",
        "plt.title(\"confusion matrix\")\n",
        "plt.show()"
      ]
    },
    {
      "cell_type": "markdown",
      "metadata": {
        "id": "FI0WVYNgIys7"
      },
      "source": [
        "## 10.0 Model Evaluation"
      ]
    },
    {
      "cell_type": "code",
      "execution_count": 32,
      "metadata": {
        "colab": {
          "base_uri": "https://localhost:8080/"
        },
        "id": "y5QcB-_aF4zx",
        "outputId": "b22664e6-43de-4a98-d271-6d892a3f33f2"
      },
      "outputs": [
        {
          "output_type": "stream",
          "name": "stdout",
          "text": [
            "69/69 [==============================] - 1s 11ms/step - loss: 0.8605 - accuracy: 0.7464\n",
            "loss: 0.8605\n",
            "accuracy: 0.7464\n"
          ]
        }
      ],
      "source": [
        "loss_and_accuracy = model.evaluate(X_test_vectors, y_test)\n",
        "print(f\"loss: {loss_and_accuracy[0]:.4f}\")\n",
        "print(f\"accuracy: {loss_and_accuracy[1]:.4f}\")"
      ]
    }
  ]
}